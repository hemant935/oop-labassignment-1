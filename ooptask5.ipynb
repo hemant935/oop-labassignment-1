{
  "nbformat": 4,
  "nbformat_minor": 0,
  "metadata": {
    "colab": {
      "name": "ooptask5.ipynb",
      "provenance": [],
      "authorship_tag": "ABX9TyNOzgScMLXNemMxE+A0nbgL",
      "include_colab_link": true
    },
    "kernelspec": {
      "name": "python3",
      "display_name": "Python 3"
    },
    "language_info": {
      "name": "python"
    }
  },
  "cells": [
    {
      "cell_type": "markdown",
      "metadata": {
        "id": "view-in-github",
        "colab_type": "text"
      },
      "source": [
        "<a href=\"https://colab.research.google.com/github/hemant935/oop-labassignment-1/blob/main/ooptask5.ipynb\" target=\"_parent\"><img src=\"https://colab.research.google.com/assets/colab-badge.svg\" alt=\"Open In Colab\"/></a>"
      ]
    },
    {
      "cell_type": "code",
      "metadata": {
        "colab": {
          "base_uri": "https://localhost:8080/"
        },
        "id": "qp3jB4eI37uv",
        "outputId": "e4e6308a-7441-4149-a555-0954bd3b448c"
      },
      "source": [
        "from abc import ABC,abstractmethod\n",
        "import math\n",
        "class shape:\n",
        "    def __init__(self,shape):\n",
        "        self.shape=shape\n",
        "\n",
        "    @abstractmethod\n",
        "    def area(self):\n",
        "        pass\n",
        "\n",
        "class rectangle(shape):\n",
        "    def __init__(self, length,width):\n",
        "        shape.__init__(self,'Rectangle')\n",
        "        self.length=length\n",
        "        self.width=width\n",
        "\n",
        "    def area(self):\n",
        "        return self.length*self.width\n",
        "\n",
        "class square(shape):\n",
        "    def __init__(self, length):\n",
        "        shape.__init__(self,'Square')\n",
        "        self.length=length        \n",
        "\n",
        "    def area(self):\n",
        "        return self.length*self.length\n",
        "\n",
        "class circle(shape):\n",
        "    def __init__(self, radius):\n",
        "        shape.__init__(self,'Circle')\n",
        "        self.radius=radius\n",
        "        \n",
        "    def area(self):\n",
        "        return math.pi*self.radius*self.radius\n",
        "\n",
        "rect=rectangle(5,6)\n",
        "print(\"area of rectangle : \",rect.area())\n",
        "\n",
        "sq=square(4)\n",
        "print(\"area of square : \",sq.area())\n",
        "\n",
        "cir=circle(3)\n",
        "print(\"area of circle : \",cir.area())\n"
      ],
      "execution_count": 1,
      "outputs": [
        {
          "output_type": "stream",
          "name": "stdout",
          "text": [
            "area of rectangle :  30\n",
            "area of square :  16\n",
            "area of circle :  28.274333882308138\n"
          ]
        }
      ]
    },
    {
      "cell_type": "code",
      "metadata": {
        "colab": {
          "base_uri": "https://localhost:8080/"
        },
        "id": "xC8Nx-0d4TSw",
        "outputId": "112811ce-7c24-4d7f-c707-083bc5126e3b"
      },
      "source": [
        "from abc import ABC,abstractmethod\n",
        "import math\n",
        "class Travel(ABC):\n",
        "    def __init__(self, num, distance, mode):\n",
        "        self.__num = num\n",
        "        self.distance = distance\n",
        "        self.mode = mode\n",
        "\n",
        "    @abstractmethod\n",
        "    def cost(self):\n",
        "        pass\n",
        "\n",
        "class Bus(Travel):\n",
        "    def __init__(self, num, distance):\n",
        "        Travel.__init__(self, num, distance, 'Bus')\n",
        "\n",
        "    def cost(self):\n",
        "        return 100*self._Travel__num                    # Name mangling\n",
        "\n",
        "class Train(Travel):\n",
        "    def __init__(self, num, distance):\n",
        "        Travel.__init__(self, num, distance, 'Train')\n",
        "\n",
        "    def cost(self):\n",
        "        return 60*self._Travel__num\n",
        "\n",
        "dharwad_to_belgavi=70\n",
        "bus=Bus(8,dharwad_to_belgavi)\n",
        "print(\"cost of travelling by bus : \",bus.cost())\n",
        "\n",
        "train=Train(8,dharwad_to_belgavi)\n",
        "print(\"cost of travelling by train : \",train.cost())"
      ],
      "execution_count": 2,
      "outputs": [
        {
          "output_type": "stream",
          "name": "stdout",
          "text": [
            "cost of travelling by bus :  800\n",
            "cost of travelling by train :  480\n"
          ]
        }
      ]
    },
    {
      "cell_type": "code",
      "metadata": {
        "colab": {
          "base_uri": "https://localhost:8080/"
        },
        "id": "N1eVIju44gn8",
        "outputId": "eb374d2f-968b-47c4-df4f-e7fce0706014"
      },
      "source": [
        "class Car:\n",
        "    def __init__(self,number,color,price):\n",
        "        self.number = number\n",
        "        self.color = color\n",
        "        self.price = price\n",
        "    \n",
        "    def setNum(self, num):\n",
        "        self.number = num\n",
        "\n",
        "def swapNumber(obj1, obj2):\n",
        "    temp = obj1.number \n",
        "    obj1.setNum(obj2.number)\n",
        "    obj2.setNum(temp)\n",
        "\n",
        "c1=Car(25,'red',250000)\n",
        "c2=Car(30,'black',300000)\n",
        "print(\"Before: c1's number: {0} and c2's number: {1}\".format(c1.number, c2.number))\n",
        "swapNumber(c1, c2)\n",
        "print(\"After : c1's number: {0} and c2's number: {1}\".format(c1.number, c2.number))"
      ],
      "execution_count": 3,
      "outputs": [
        {
          "output_type": "stream",
          "name": "stdout",
          "text": [
            "Before: c1's number: 25 and c2's number: 30\n",
            "After : c1's number: 30 and c2's number: 25\n"
          ]
        }
      ]
    }
  ]
}