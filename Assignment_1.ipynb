{
  "nbformat": 4,
  "nbformat_minor": 0,
  "metadata": {
    "colab": {
      "name": "Assignment-1.ipynb",
      "provenance": [],
      "collapsed_sections": [],
      "authorship_tag": "ABX9TyNLime6gP9uscMc4dJzws70",
      "include_colab_link": true
    },
    "kernelspec": {
      "name": "python3",
      "display_name": "Python 3"
    },
    "language_info": {
      "name": "python"
    }
  },
  "cells": [
    {
      "cell_type": "markdown",
      "metadata": {
        "id": "view-in-github",
        "colab_type": "text"
      },
      "source": [
        "<a href=\"https://colab.research.google.com/github/hemant935/oop-labassignment-1/blob/main/Assignment_1.ipynb\" target=\"_parent\"><img src=\"https://colab.research.google.com/assets/colab-badge.svg\" alt=\"Open In Colab\"/></a>"
      ]
    },
    {
      "cell_type": "code",
      "metadata": {
        "colab": {
          "base_uri": "https://localhost:8080/"
        },
        "id": "paYU0-ayJ3iC",
        "outputId": "9928d93c-07e0-40f3-b8b4-2cc2447a1fda"
      },
      "source": [
        "#  problem 1:\n",
        "def leapyear(year):\n",
        "     if (year%4)==0:\n",
        "       if (year%100)==0:\n",
        "         if(year%400)==0:\n",
        "             print(bool(year))\n",
        "             print(year,\" is a leap year \")\n",
        "         else:\n",
        "             print(bool(year))\n",
        "             print(year,\" is a leap year \")   \n",
        "       else:\n",
        "             print(bool(year))\n",
        "             print(year,\" is a leap year \")      \n",
        "     else:\n",
        "             print(bool((year%4)==0))\n",
        "             print(year,\" is not a leap year \") \n",
        "year=int(input(\"enter the year :\"))\n",
        "leapyear(year)    "
      ],
      "execution_count": 1,
      "outputs": [
        {
          "output_type": "stream",
          "name": "stdout",
          "text": [
            "enter the year :2000\n",
            "True\n",
            "2000  is a leap year \n"
          ]
        }
      ]
    },
    {
      "cell_type": "code",
      "metadata": {
        "colab": {
          "base_uri": "https://localhost:8080/"
        },
        "id": "LqeJgVDIKzca",
        "outputId": "29068711-cc9b-49dd-fcc7-7a79e0592327"
      },
      "source": [
        "#  problem 2:\n",
        "def action(n):\n",
        "    if (n%2)==0:\n",
        "        if n in range(2,5):\n",
        "            print(\"Not weird\")\n",
        "        if n in range(6,20):\n",
        "            print(\"weird\")    \n",
        "        if n>20:\n",
        "            print(\"Not weird\")    \n",
        "    else:\n",
        "        print(\"Weird\")        \n",
        "action(5)     \n"
      ],
      "execution_count": 2,
      "outputs": [
        {
          "output_type": "stream",
          "name": "stdout",
          "text": [
            "Weird\n"
          ]
        }
      ]
    },
    {
      "cell_type": "code",
      "metadata": {
        "colab": {
          "base_uri": "https://localhost:8080/"
        },
        "id": "Z1CZSlzbLDqd",
        "outputId": "9a3107e4-a125-47d3-a5ab-7b5b34099af9"
      },
      "source": [
        "# problem 3:\n",
        "Arrivals = ['Hardik','Rahul','Virat','Rishabh','Mahi','Rohit','Rahane'] \n",
        "def timing(arrivals,person):    \n",
        "      if person in arrivals:\n",
        "          for x in range(int(len(arrivals)/2),len(arrivals)-1):\n",
        "              if person==arrivals[x]:          \n",
        "                print(person,\" is fashionably late\")\n",
        "          if person==arrivals[len(arrivals)-1]:\n",
        "              print(person,\" is last in the list\")         \n",
        "          for x in range(0,int(len(arrivals)/2)-1):\n",
        "              if person==arrivals[x]:      \n",
        "               print(person,\" is not fashionably late\")      \n",
        "      else:\n",
        "          print(\"person is not in list\")\n",
        "\n",
        "timing(Arrivals,'Rishabh') "
      ],
      "execution_count": 3,
      "outputs": [
        {
          "output_type": "stream",
          "name": "stdout",
          "text": [
            "Rishabh  is fashionably late\n"
          ]
        }
      ]
    },
    {
      "cell_type": "code",
      "metadata": {
        "colab": {
          "base_uri": "https://localhost:8080/"
        },
        "id": "cbUD9u8wLTQy",
        "outputId": "f1787add-eb88-4320-97f1-3f111af5290a"
      },
      "source": [
        "#problem 4:\n",
        "def word_search_2(title_list, keyword):\n",
        "    # make lowercase and remove punctuation\n",
        "    keyword = keyword.lower().strip('.,')\n",
        "\n",
        "    result_list = []\n",
        "    for i, title in enumerate(title_list):\n",
        "        # make lowercase and remove punctuation, then split into words\n",
        "        words = title.lower().strip('.,').split()\n",
        "\n",
        "        if keyword in words:\n",
        "            result_list.append((i, title))\n",
        "\n",
        "    return result_list\n",
        "doc_list = [\"The Learn Python Challenge Rohit.\",\"They bought a car\",\"bangalore\"] \n",
        "print(word_search_2(doc_list,'learn'))"
      ],
      "execution_count": 4,
      "outputs": [
        {
          "output_type": "stream",
          "name": "stdout",
          "text": [
            "[(0, 'The Learn Python Challenge Rohit.')]\n"
          ]
        }
      ]
    },
    {
      "cell_type": "code",
      "metadata": {
        "colab": {
          "base_uri": "https://localhost:8080/"
        },
        "id": "5L4AdJgpLXSF",
        "outputId": "c71990ce-7c3e-4398-af0d-14ef55b5c440"
      },
      "source": [
        "\n",
        "# problem 5:\n",
        "def GP(BP):\n",
        "    DA=0.4*BP \n",
        "    HRA=0.2*BP\n",
        "    GP=BP+DA+HRA\n",
        "    print(GP)\n",
        "GP(1000)"
      ],
      "execution_count": 5,
      "outputs": [
        {
          "output_type": "stream",
          "name": "stdout",
          "text": [
            "1600.0\n"
          ]
        }
      ]
    }
  ]
}