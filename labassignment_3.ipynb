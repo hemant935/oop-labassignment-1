{
  "nbformat": 4,
  "nbformat_minor": 0,
  "metadata": {
    "colab": {
      "name": "labassignment-3.ipynb",
      "provenance": [],
      "collapsed_sections": [],
      "authorship_tag": "ABX9TyP9kb481ZOISiOkzwmccyEs",
      "include_colab_link": true
    },
    "kernelspec": {
      "name": "python3",
      "display_name": "Python 3"
    },
    "language_info": {
      "name": "python"
    }
  },
  "cells": [
    {
      "cell_type": "markdown",
      "metadata": {
        "id": "view-in-github",
        "colab_type": "text"
      },
      "source": [
        "<a href=\"https://colab.research.google.com/github/hemant935/oop-labassignment-1/blob/main/labassignment_3.ipynb\" target=\"_parent\"><img src=\"https://colab.research.google.com/assets/colab-badge.svg\" alt=\"Open In Colab\"/></a>"
      ]
    },
    {
      "cell_type": "code",
      "metadata": {
        "colab": {
          "base_uri": "https://localhost:8080/"
        },
        "id": "S53dWKP9mGAh",
        "outputId": "f0643737-63a6-4214-81e7-d0fbeabf632e"
      },
      "source": [
        "# problem-1\n",
        "class student_details():\n",
        "    def __init__(self):\n",
        "      self.name=input(\"Enter student Name : \")\n",
        "      self.reg=input(\"Enter Registration No. : \")\n",
        "      self.age=input(\"Enter Age : \")\n",
        "      self.gender=input(\"Enter Gender : \")\n",
        "      self.branch=input(\"Enter Branch : \")\n",
        "      self.sem=input(\"Enter sem : \")      \n",
        "    def display(self): \n",
        "        print(\"Name : \",self.name)       \n",
        "        print(\"Registration No. : \",self.reg)\n",
        "        print(\"Age : \",self.age)\n",
        "        print(\"Gender : \",self.gender)\n",
        "        print(\"Branch : \",self.branch)\n",
        "        print(\"Sem : \",self.sem)\n",
        "\n",
        "class studentResultInfo(student_details):\n",
        "        def __init__(self):  \n",
        "            student_details.__init__(self)                                 \n",
        "            self.totalmarks=input(\"Enter Total Marks : \")\n",
        "            self.percentage=input(\"Enter percentage : \")\n",
        "            self.grade=input(\"Enter Grade : \")\n",
        "        def Display(self):\n",
        "            student_details.display(self)\n",
        "            print(\"Total Marks : \",self.totalmarks)\n",
        "            print(\"Percentage : \",self.percentage)\n",
        "            print(\"Grade : \",self.grade)\n",
        "\n",
        "\n",
        "student1=studentResultInfo()\n",
        "student1.Display()\n",
        "\n",
        "# problem-2\n",
        "class PDFs:\n",
        "  def __init__(self, creator, description, size):\n",
        "    self.creator = creator\n",
        "    self.description = description\n",
        "    self.size = size\n",
        "\n",
        "  def displayInfo(self):\n",
        "    print(\"Created by:\",self.creator)\n",
        "    print(\"Description:\", self.description)\n",
        "    print(\"File size (in KBs):\", self.size)\n",
        "\n",
        "  def sizeLimit(self):\n",
        "    if self.size > 256:         #SIZE THRESHOLD = 256 KBs\n",
        "      print(\"Size exceeds threshold.\\n\")\n",
        "    else:\n",
        "      print(\"Size is within the threshold.\\n\")\n",
        "\n",
        "class Pictures(PDFs):\n",
        "  def __init__(self, creator, description, size, dimension):\n",
        "    super().__init__(creator, description, size)\n",
        "    self.dimension = dimension\n",
        "\n",
        "  def displayPicInfo(self):\n",
        "    self.displayInfo()\n",
        "    print(\"Dimensions (in pixels):\", self.dimension)\n",
        "\n",
        "  def dimensionLimit(self):\n",
        "    if self.dimension>2000:   #DIMENSION THRESHOLD = 2000p\n",
        "      print(\"The picture is too high dimension!\\n\")\n",
        "    else:\n",
        "      print(\"The picture's dimensions are fine.\\n\")\n",
        "\n",
        "pdf1 = PDFs(\"Hemant Dhawale\", \"Lab assignment 3\", 118)\n",
        "pdf1.displayInfo()\n",
        "pdf1.sizeLimit()\n",
        "print()\n",
        "img = Pictures(\"Hit\", \"Burj Khalifa\", 1430, 3100)\n",
        "img.displayPicInfo()\n",
        "img.dimensionLimit()\n",
        "\n",
        "# problem-3\n",
        "\n",
        "class Vehicle:\n",
        "  def __init__(self, name, mileage, capacity):      #mileage assumed to be in Kmpl\n",
        "    self.name = name\n",
        "    self.mileage = mileage\n",
        "    self.capacity = capacity\n",
        "\n",
        "  def fare(self):\n",
        "    return self.capacity*100\n",
        "\n",
        "class Bus(Vehicle):\n",
        "  def busFare(self):\n",
        "    return 1.1*self.fare()\n",
        "\n",
        "bus = Bus(\"Mahindra\", 3.8, 50)\n",
        "print(\"Name: {0.name}, Mileage: {0.mileage}Kmpl, Capacity: {0.capacity}, \\nBus fare: Rs. {1}\".format(bus, bus.busFare()))\n"
      ],
      "execution_count": 2,
      "outputs": [
        {
          "output_type": "stream",
          "name": "stdout",
          "text": [
            "Enter student Name : Hemant\n",
            "Enter Registration No. : 20bcs058\n",
            "Enter Age : 19\n",
            "Enter Gender : Male\n",
            "Enter Branch : CSE\n",
            "Enter sem : Third\n",
            "Enter Total Marks : 90\n",
            "Enter percentage : 90\n",
            "Enter Grade : A\n",
            "Name :  Hemant\n",
            "Registration No. :  20bcs058\n",
            "Age :  19\n",
            "Gender :  Male\n",
            "Branch :  CSE\n",
            "Sem :  Third\n",
            "Total Marks :  90\n",
            "Percentage :  90\n",
            "Grade :  A\n"
          ]
        }
      ]
    }
  ]
}